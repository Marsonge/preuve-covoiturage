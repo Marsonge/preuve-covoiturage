{
 "cells": [
  {
   "cell_type": "code",
   "execution_count": null,
   "metadata": {},
   "outputs": [],
   "source": [
    "\n",
    "import pandas as pd\n",
    "from sqlalchemy import create_engine, text\n",
    "\n",
    "engine = create_engine(connection_string, connect_args={'sslmode':'require'})\n",
    "\n",
    "query = f\"\"\"SELECT cc._id, cc.is_driver, ci.phone_trunc, cc.datetime, cc.duration, cc.operator_id, \n",
    "ST_AsText(cc.start_position) as start_wkt, ST_AsText(cc.end_position) as end_wkt, \n",
    "cc.operator_journey_id,\n",
    "cc.distance,\n",
    "ci.operator_user_id,\n",
    "cc.end_position, gmap_url(cc.start_position, cc.end_position),\n",
    "CASE WHEN pi.result >= 0 THEN pi.result ELSE 0 END as incentive,\n",
    "cc.operator_trip_id,\n",
    " \n",
    "cc2.is_driver as other_is_driver,\n",
    "ci2.phone_trunc as other_phone_trunc\n",
    "FROM CARPOOL.CARPOOLS cc\n",
    "   join carpool.identities ci on cc.identity_id = ci._id\n",
    "   join geo.perimeters gps on cc.start_geo_code = gps.arr and gps.year = 2022\n",
    "   join geo.perimeters gpe on cc.end_geo_code = gpe.arr and gpe.year = 2022\n",
    "   LEFT JOIN policy.incentives pi on pi.carpool_id = cc._id and pi.policy_id = 459\n",
    "\n",
    "   JOIN CARPOOL.CARPOOLS AS CC2 ON CC.OPERATOR_JOURNEY_ID = CC2.OPERATOR_JOURNEY_ID and CC.is_driver != cc2.is_driver\n",
    "   JOIN CARPOOL.IDENTITIES AS CI2 on CC2.IDENTITY_ID = CI2._id\n",
    "WHERE CC.DATETIME >= '{start_date}'::timestamp AT TIME ZONE 'EUROPE/PARIS'\n",
    "\tAND CC.DATETIME < '{end_date}'::timestamp AT TIME ZONE 'EUROPE/PARIS'\n",
    "    {f\"and (gps.aom = '{aom_insee}' or gpe.aom = '{aom_insee}') and gps.year = 2022 and gpe.year = 2022\" if aom_insee else \"\"}\n",
    "\"\"\"\n",
    "\n",
    "with engine.connect() as conn:\n",
    "    df_carpool = pd.read_sql_query(text(query), conn)"
   ]
  },
  {
   "cell_type": "code",
   "execution_count": null,
   "metadata": {},
   "outputs": [],
   "source": [
    "grouped_tmp = df_carpool.groupby(['phone_trunc'])\n",
    "phone_trunc_grouped_filtered = grouped_tmp.filter(lambda x: len(pd.unique(x['operator_id'])) > 1)"
   ]
  },
  {
   "cell_type": "code",
   "execution_count": null,
   "metadata": {},
   "outputs": [],
   "source": [
    "def has_overalp(row1, row2):\n",
    "  start1 = pd.to_datetime(row1['datetime'])\n",
    "  duration1 = pd.to_timedelta(row1['duration'], unit='s')\n",
    "  \n",
    "  start2 = row2['datetime']\n",
    "  duration2 = pd.to_timedelta(row2['duration'], unit='s')\n",
    "\n",
    "  end1 = start1 + duration1\n",
    "  end2 = start2 + duration2\n",
    "\n",
    "  overlap_start = max(start1, start2)\n",
    "  overlap_end = min(end1, end2)\n",
    "  return max(0, (overlap_end - overlap_start).total_seconds())\n",
    "\n",
    "def group_by_overlap(df):\n",
    "  for i in range(len(df)):\n",
    "    if df.loc[df.index[i], 'overlap_group'] == 100 :\n",
    "      for j in range(i+1, len(df)):\n",
    "        overlap_duration = has_overalp(df.iloc[i], df.iloc[j])\n",
    "        if overlap_duration > 20:\n",
    "          df.loc[df.index[j], 'overlap_group'] = i\n",
    "          df.loc[df.index[j], 'overlap_duration'] = overlap_duration\n",
    "      df.loc[df.index[i], 'overlap_group'] = i\n",
    "  return df\n",
    "\n",
    "df_only_grouped_with_overlap_group_filled = phone_trunc_grouped_filtered.assign(overlap_group=100)\n",
    "df_only_grouped_with_overlap_group_filled = df_only_grouped_with_overlap_group_filled.assign(overlap_duration=0)\n",
    "\n",
    "grouped_tmp = df_only_grouped_with_overlap_group_filled.groupby(['phone_trunc'],group_keys=False)\n",
    "\n",
    "df_only_grouped_with_overlap_group_filled = grouped_tmp.apply(lambda df: group_by_overlap(df)).reset_index(drop=True)"
   ]
  },
  {
   "cell_type": "code",
   "execution_count": null,
   "metadata": {},
   "outputs": [],
   "source": [
    "grouped_tmp = df_only_grouped_with_overlap_group_filled.groupby(['phone_trunc', 'overlap_group'],group_keys=False)\n",
    "df_more_than_one_occ = grouped_tmp.filter(lambda x:  len(pd.unique(x['operator_id'])) > 1 and x['overlap_group'].count() > 1)"
   ]
  },
  {
   "cell_type": "code",
   "execution_count": null,
   "metadata": {},
   "outputs": [],
   "source": [
    "def remove_passenger_with_no_overlap(df):\n",
    "     df_counted_other_phone = df.groupby(['other_phone_trunc']).count()\n",
    "     df_kept_passenger_trunc = df_counted_other_phone[df_counted_other_phone._id > 1].reset_index()['other_phone_trunc']\n",
    "     df_filtered = df[df['other_phone_trunc'].isin(df_kept_passenger_trunc)]\n",
    "     return df_filtered\n",
    "\n",
    "grouped_tmp = df_more_than_one_occ.groupby(['phone_trunc', 'overlap_group'],group_keys=False)\n",
    "\n",
    "df_more_than_one_occ_enhanced = grouped_tmp.apply(lambda x: remove_passenger_with_no_overlap(x)).reset_index(drop=True)"
   ]
  },
  {
   "cell_type": "code",
   "execution_count": null,
   "metadata": {},
   "outputs": [],
   "source": [
    "def filter_carpool_with_overlap_on_same_operator(df):\n",
    "    if not (len(df) > 1 and len(pd.unique(df['other_phone_trunc'])) == 1):\n",
    "        return df\n",
    "    else:\n",
    "        min_overlap_value = df['overlap_duration'].min()\n",
    "        min_valu_mask = df['overlap_duration'] = min_overlap_value\n",
    "        carpool_to_remove = df[min_valu_mask]\n",
    "        df = df.drop(carpool_to_remove.index)\n",
    "        return df\n",
    "\n",
    "grouped_tmp = df_more_than_one_occ_enhanced.groupby(['phone_trunc', 'overlap_group', 'operator_id', 'other_phone_trunc'])\n",
    "\n",
    "df_without_overlap_on_same_operator = grouped_tmp.apply(lambda x: filter_carpool_with_overlap_on_same_operator(x))"
   ]
  },
  {
   "cell_type": "code",
   "execution_count": null,
   "metadata": {},
   "outputs": [],
   "source": [
    "grouped_tmp = df_more_than_one_occ_enhanced.groupby(['phone_trunc', 'overlap_group'])\n",
    "df_more_than_one_occ_2 = grouped_tmp.filter(lambda x:  len(pd.unique(x['operator_id'])) > 1 and x['overlap_group'].count() > 1)"
   ]
  },
  {
   "cell_type": "code",
   "execution_count": null,
   "metadata": {},
   "outputs": [],
   "source": [
    "driver_mask = df_more_than_one_occ_2.is_driver == True \n",
    "\n",
    "grouped_tmp = df_more_than_one_occ_2[driver_mask].groupby(['phone_trunc', 'overlap_group'], group_keys=False)\n",
    "\n",
    "df_with_authorized_multiop_driver = grouped_tmp.filter(lambda x: (\\\n",
    "    len(pd.unique(x['other_phone_trunc'])) == len(x) and \\\n",
    "    len(pd.unique(x['operator_id'])) == len(x) and \\\n",
    "    len(pd.unique(x['other_phone_trunc'])) > 1 and \\\n",
    "    len(pd.unique(x['operator_id'])) > 1))\n",
    "\n",
    "df_final_result = df_more_than_one_occ_2.loc[~df_more_than_one_occ_2._id.isin(df_with_authorized_multiop_driver._id.unique())]\n"
   ]
  },
  {
   "cell_type": "code",
   "execution_count": null,
   "metadata": {},
   "outputs": [],
   "source": [
    "# is_driver_mask = df_final_result.is_driver == True\n",
    "\n",
    "grouped_tmp = df_final_result.groupby(['phone_trunc', 'other_phone_trunc', 'overlap_group'])\n",
    "\n",
    "control_matrix = grouped_tmp.agg(unique_operator_count=('operator_id', 'nunique'), journey_id_list=('operator_journey_id', list)).reset_index()\n",
    "\n",
    "assert (control_matrix['unique_operator_count'] > 1).all()"
   ]
  },
  {
   "cell_type": "code",
   "execution_count": null,
   "metadata": {},
   "outputs": [],
   "source": [
    "update_sql_query = f\"\"\"UPDATE carpool.carpools SET status = fraudcheck_error where _id = ANY('{{{','.join(map(str,df_final_result['_id'].to_list()))}}}')\n",
    "\"\"\"\n",
    "\n",
    "with engine.begin() as conn:\n",
    "    conn.execute(update_sql_query)\n"
   ]
  },
  {
   "cell_type": "code",
   "execution_count": null,
   "metadata": {},
   "outputs": [],
   "source": [
    "df_labels = pd.DataFrame(df_final_result['_id'])\n",
    "df_labels.columns = ['carpool_id']\n",
    "df_labels = df_labels.assign(label='interoperator_fraud')\n",
    "df_labels = df_labels.assign(label=aom_insee)"
   ]
  },
  {
   "cell_type": "code",
   "execution_count": null,
   "metadata": {},
   "outputs": [],
   "source": [
    "from sqlalchemy.dialects.postgresql import insert\n",
    "\n",
    "def insert_or_do_nothing_on_conflict(table, conn, keys, data_iter):\n",
    "    insert_stmt = insert(table.table).values(list(data_iter))\n",
    "    on_duplicate_key_stmt = insert_stmt.on_conflict_do_nothing(index_elements=['carpool_id', 'label'])\n",
    "    conn.execute(on_duplicate_key_stmt)\n",
    "\n",
    "df_labels.to_sql(\n",
    "    name=\"labels\",\n",
    "    schema=\"fraudcheck\",\n",
    "    con=engine,\n",
    "    if_exists=\"append\",\n",
    "    index=False,\n",
    "    method=insert_or_do_nothing_on_conflict\n",
    ")"
   ]
  }
 ],
 "metadata": {
  "kernelspec": {
   "display_name": ".venv",
   "language": "python",
   "name": "python3"
  },
  "language_info": {
   "codemirror_mode": {
    "name": "ipython",
    "version": 3
   },
   "file_extension": ".py",
   "mimetype": "text/x-python",
   "name": "python",
   "nbconvert_exporter": "python",
   "pygments_lexer": "ipython3",
   "version": "3.10.6"
  }
 },
 "nbformat": 4,
 "nbformat_minor": 2
}
